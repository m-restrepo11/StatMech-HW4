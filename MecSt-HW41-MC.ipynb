{
 "cells": [
  {
   "cell_type": "code",
   "execution_count": 1,
   "metadata": {},
   "outputs": [
    {
     "name": "stdout",
     "output_type": "stream",
     "text": [
      "Populating the interactive namespace from numpy and matplotlib\n"
     ]
    }
   ],
   "source": [
    "pylab inline"
   ]
  },
  {
   "cell_type": "markdown",
   "metadata": {},
   "source": [
    "# Parte A\n"
   ]
  },
  {
   "cell_type": "code",
   "execution_count": 2,
   "metadata": {
    "collapsed": true
   },
   "outputs": [],
   "source": [
    "def betA(initialFunds, nRuns,nBets):\n",
    "    fundList=[]\n",
    "    #Runs a single player nRuns times to sample the probability distribution.\n",
    "    for run in range(nRuns):\n",
    "        funds=initialFunds\n",
    "        #Runs a single game of nBets bets.\n",
    "        for i in range(nBets):\n",
    "            #random integer to sample the posibilities of the player.\n",
    "            r = randint(1,37)\n",
    "            #If the roulette is green he wins 36 units of of money.\n",
    "            if r == 1:\n",
    "                funds+=36\n",
    "            #If the roulette is either red or black he lost one unit of money.\n",
    "            else:\n",
    "                funds-=1\n",
    "            #If the player has no more money the game ends.\n",
    "            if funds<=0:\n",
    "                break\n",
    "        fundList.append(funds)\n",
    "    return(fundList)"
   ]
  },
  {
   "cell_type": "code",
   "execution_count": 3,
   "metadata": {
    "collapsed": true
   },
   "outputs": [],
   "source": [
    "def gameA(nPlayers,initialFunds,nBets):\n",
    "    nPlayers_broke = 0\n",
    "    time=0\n",
    "    fundList = [initialFunds]*nPlayers\n",
    "    while nPlayers_broke<(nPlayers/2.0):\n",
    "        time+=1\n",
    "        for i in range(nPlayers):\n",
    "            #print(fundList)\n",
    "            #print('\\n')\n",
    "            #Plays the game for player i.\n",
    "            if nPlayers_broke>=(nPlayers/2.0):\n",
    "                break\n",
    "            elif fundList[i]==0:\n",
    "                #print('el jugador ' + str(i)+' no tiene plata\\n')\n",
    "                pass\n",
    "            else:\n",
    "                for j in range(nBets):\n",
    "                    r = randint(1,37)                \n",
    "                    #print('el jugador ' + str(i) + ' apuesta\\n')\n",
    "                    if r == 18:\n",
    "                        fundList[i]+=36\n",
    "                        #print('fondos del jugador ' + str(i) + ': ' + str(fundList[i])+'\\n')\n",
    "                    else:\n",
    "                        fundList[i]-=1\n",
    "                        #print('fondos del jugador ' + str(i) + ': ' + str(fundList[i])+'\\n')\n",
    "                        if fundList[i]<=0:\n",
    "                            #print('SE QUEBRÓ ' + str(i) + '\\n')\n",
    "                            nPlayers_broke+=1\n",
    "                            #nPlayers-=1\n",
    "                            #fundList += [fundList.pop(i)]\n",
    "                            #print(fundList)\n",
    "                            #print('\\n')\n",
    "                            break\n",
    "   \n",
    "    return(time)"
   ]
  },
  {
   "cell_type": "code",
   "execution_count": 4,
   "metadata": {},
   "outputs": [],
   "source": [
    "initialFunds=100\n",
    "nRuns=10**4\n",
    "nBets=10**2\n",
    "\n",
    "fListA = betA(initialFunds, nRuns,nBets)"
   ]
  },
  {
   "cell_type": "code",
   "execution_count": 5,
   "metadata": {
    "collapsed": true
   },
   "outputs": [],
   "source": [
    "nPlayers=200\n",
    "tListA=[]\n",
    "for run in range(40):    \n",
    "    tListA.append(gameA(nPlayers,100,100))  "
   ]
  },
  {
   "cell_type": "code",
   "execution_count": 6,
   "metadata": {},
   "outputs": [
    {
     "name": "stdout",
     "output_type": "stream",
     "text": [
      "La Media es: 103.156\n"
     ]
    },
    {
     "data": {
      "image/png": "[encoded data removed]",
      "text/plain": [
       "<matplotlib.figure.Figure at 0x7fece9d356d8>"
      ]
     },
     "metadata": {},
     "output_type": "display_data"
    }
   ],
   "source": [
    "print('La Media es: ' + str(mean(fListA)))\n",
    "xlabel('Dinero',fontsize=16)\n",
    "ylabel('Frecuencia',fontsize=16)\n",
    "title('Distribución de dinero empírica',fontsize=18)\n",
    "hist(fListA,normed=True,bins=35)\n",
    "show()"
   ]
  },
  {
   "cell_type": "code",
   "execution_count": 7,
   "metadata": {},
   "outputs": [
    {
     "name": "stdout",
     "output_type": "stream",
     "text": [
      "El tiempo promedio para que 100 jugadores de 200 se quiebren es de 8.675 rondas de 100 juegos.\n"
     ]
    }
   ],
   "source": [
    "print('El tiempo promedio para que 100 jugadores de 200 se quiebren es de ' + str(mean(tListA))+ ' rondas de 100 juegos.')"
   ]
  },
  {
   "cell_type": "markdown",
   "metadata": {},
   "source": [
    "# Parte B"
   ]
  },
  {
   "cell_type": "code",
   "execution_count": 8,
   "metadata": {
    "collapsed": true
   },
   "outputs": [],
   "source": [
    "def betB(initialFunds, nRuns, nBets):\n",
    "    fundList2 = []\n",
    "    for run in range(nRuns):\n",
    "        funds=initialFunds\n",
    "        for i in range(nBets):\n",
    "            r = randint(1,37)\n",
    "            if r<19:\n",
    "                funds+=1\n",
    "            else:\n",
    "                funds-=1\n",
    "            if funds<=0:\n",
    "                break\n",
    "        fundList2.append(funds)\n",
    "    return(fundList2)"
   ]
  },
  {
   "cell_type": "code",
   "execution_count": 9,
   "metadata": {
    "collapsed": true
   },
   "outputs": [],
   "source": [
    "def gameB(nPlayers,initialFunds,nBets):\n",
    "    nPlayers_broke = 0\n",
    "    time=0\n",
    "    fundList = [initialFunds]*nPlayers\n",
    "    while nPlayers_broke<(nPlayers/2.0):\n",
    "        time+=1\n",
    "        for i in range(nPlayers):\n",
    "            #print(fundList)\n",
    "            #print('\\n')\n",
    "            #Plays the game for player i.\n",
    "            if nPlayers_broke>=(nPlayers/2.0):\n",
    "                break\n",
    "            elif fundList[i]==0:\n",
    "                #print('el jugador ' + str(i)+' no tiene plata\\n')\n",
    "                pass\n",
    "            else:\n",
    "                for j in range(nBets):\n",
    "                    r = randint(1,37)                \n",
    "                    #print('el jugador ' + str(i) + ' apuesta\\n')\n",
    "                    if r < 18:\n",
    "                        fundList[i]+=1\n",
    "                        #print('fondos del jugador ' + str(i) + ': ' + str(fundList[i])+'\\n')\n",
    "                    else:\n",
    "                        fundList[i]-=1\n",
    "                        #print('fondos del jugador ' + str(i) + ': ' + str(fundList[i])+'\\n')\n",
    "                        if fundList[i]<=0:\n",
    "                            #print('SE QUEBRÓ ' + str(i) + '\\n')\n",
    "                            nPlayers_broke+=1\n",
    "                            #nPlayers-=1\n",
    "                            #fundList += [fundList.pop(i)]\n",
    "                            #print(fundList)\n",
    "                            #print('\\n')\n",
    "                            break\n",
    "            #If the number of players broke is half of the total players nor more players bet.   \n",
    "    return(time)"
   ]
  },
  {
   "cell_type": "code",
   "execution_count": 10,
   "metadata": {
    "collapsed": true
   },
   "outputs": [],
   "source": [
    "initialFunds=100\n",
    "nRuns=10**4\n",
    "nBets=100\n",
    "\n",
    "fListB = betB(initialFunds,nRuns,nBets)"
   ]
  },
  {
   "cell_type": "code",
   "execution_count": 11,
   "metadata": {},
   "outputs": [
    {
     "name": "stdout",
     "output_type": "stream",
     "text": [
      "La media es: 100.0924\n"
     ]
    },
    {
     "data": {
      "image/png": "[encoded data removed]",
      "text/plain": [
       "<matplotlib.figure.Figure at 0x7fece7c113c8>"
      ]
     },
     "metadata": {},
     "output_type": "display_data"
    }
   ],
   "source": [
    "print('La media es: ' + str(mean(fListB)))\n",
    "\n",
    "xlabel('Dinero',fontsize=16)\n",
    "ylabel('Frecuencia',fontsize=16)\n",
    "title('Distribución empírica de dinero',fontsize=18)\n",
    "hist(fListB,normed=True,bins=arange(min(fListB),max(fListB)))\n",
    "show()"
   ]
  },
  {
   "cell_type": "code",
   "execution_count": 12,
   "metadata": {
    "collapsed": true
   },
   "outputs": [],
   "source": [
    "nPlayers=200\n",
    "initialFunds=100\n",
    "nBets=100\n",
    "\n",
    "timeListB = []\n",
    "\n",
    "for i in range(20):\n",
    "    timeListB.append(gameB(nPlayers,initialFunds,nBets))"
   ]
  },
  {
   "cell_type": "code",
   "execution_count": 13,
   "metadata": {},
   "outputs": [
    {
     "name": "stdout",
     "output_type": "stream",
     "text": [
      "El tiempo promedio para que 100 jugadores de 200 se quiebren es de  17.35 rondas de 100 juegos.\n"
     ]
    }
   ],
   "source": [
    "print('El tiempo promedio para que 100 jugadores de 200 se quiebren es de  ' + str(mean(timeListB))+ ' rondas de 100 juegos.')"
   ]
  },
  {
   "cell_type": "markdown",
   "metadata": {},
   "source": [
    "# Parte C"
   ]
  },
  {
   "cell_type": "code",
   "execution_count": 14,
   "metadata": {
    "collapsed": true
   },
   "outputs": [],
   "source": [
    "def betC(initialFunds,nRuns,nBets):\n",
    "    fundList3 = []\n",
    "    for run in range(nRuns):\n",
    "        funds=initialFunds\n",
    "        losses=0\n",
    "        for i in range(nBets):\n",
    "            bet = 1*2**losses\n",
    "            r = randint(1,37)\n",
    "            if bet>funds:\n",
    "                if r<19:\n",
    "                    funds+=funds\n",
    "                    losses=0\n",
    "                else:\n",
    "                    funds = 0\n",
    "                    break\n",
    "            else: \n",
    "                if r<19:\n",
    "                    funds+=bet\n",
    "                    losses=0\n",
    "                else:\n",
    "                    funds-=bet\n",
    "                    losses +=1\n",
    "        fundList3.append(funds)\n",
    "    return(fundList3)"
   ]
  },
  {
   "cell_type": "code",
   "execution_count": 15,
   "metadata": {
    "collapsed": true
   },
   "outputs": [],
   "source": [
    "def gameC(nPlayers,initialFunds,nBets):\n",
    "    nPlayers_broke = 0\n",
    "    time=0\n",
    "    fundList = [initialFunds]*nPlayers\n",
    "    while nPlayers_broke<(nPlayers/2.0):\n",
    "        time+=1\n",
    "        for i in range(nPlayers):\n",
    "            #print(fundList)\n",
    "            #print('\\n')\n",
    "            if nPlayers_broke>=(nPlayers/2.0):\n",
    "                break\n",
    "            elif fundList[i]==0:\n",
    "                #print('el jugador ' + str(i)+' no tiene plata\\n')\n",
    "                pass\n",
    "            else:\n",
    "                losses=0\n",
    "            #Plays the game for player i.            \n",
    "                for j in range(nBets):\n",
    "                    bet = 1*2**losses\n",
    "                    r = randint(1,37)                \n",
    "                    #print('el jugador ' + str(i) + ' apuesta\\n')\n",
    "                    if bet>fundList[i]:\n",
    "                        if r<19:\n",
    "                            fundList[i]+=fundList[i]\n",
    "                            losses=0\n",
    "                        else:\n",
    "                            fundList[i] = 0\n",
    "                            #print('SE QUEBRÓ ' + str(i) + '\\n')\n",
    "                            nPlayers_broke+=1\n",
    "                            break\n",
    "                    else: \n",
    "                        if r<19:\n",
    "                            fundList[i]+=bet\n",
    "                            losses=0\n",
    "                        else:\n",
    "                            fundList[i]-=bet\n",
    "                            losses +=1\n",
    "                            if fundList[i]==0:\n",
    "                               # print('SE QUEBRÓ ' + str(i) + '\\n')\n",
    "                                nPlayers_broke+=1\n",
    "                                break\n",
    "                   \n",
    "    return(time)"
   ]
  },
  {
   "cell_type": "code",
   "execution_count": 16,
   "metadata": {
    "collapsed": true
   },
   "outputs": [],
   "source": [
    "initialFunds=100\n",
    "nRuns=10**4\n",
    "nBets=10**2\n",
    "fListC=betC(initialFunds,nRuns,nBets)"
   ]
  },
  {
   "cell_type": "code",
   "execution_count": 17,
   "metadata": {},
   "outputs": [
    {
     "name": "stdout",
     "output_type": "stream",
     "text": [
      "La media es: 99.886\n"
     ]
    },
    {
     "data": {
      "image/png": "[encoded data removed]",
      "text/plain": [
       "<matplotlib.figure.Figure at 0x7fece7aab8d0>"
      ]
     },
     "metadata": {},
     "output_type": "display_data"
    }
   ],
   "source": [
    "print('La media es: ' + str(mean(fListC)))\n",
    "\n",
    "xlabel('Dinero',fontsize=16)\n",
    "ylabel('Frecuencia',fontsize=16)\n",
    "title('Distribución empírica de dinero',fontsize=18)\n",
    "hist(fListC,normed=True,bins=arange(amin(fListC),amax(fListC)))\n",
    "show()"
   ]
  },
  {
   "cell_type": "code",
   "execution_count": 18,
   "metadata": {
    "collapsed": true
   },
   "outputs": [],
   "source": [
    "nPlayers=200\n",
    "initialFunds=100\n",
    "nBets=100\n",
    "\n",
    "timeListC = []\n",
    "\n",
    "for i in range(20):\n",
    "    timeListC.append(gameC(nPlayers,initialFunds,nBets))"
   ]
  },
  {
   "cell_type": "code",
   "execution_count": 19,
   "metadata": {},
   "outputs": [
    {
     "name": "stdout",
     "output_type": "stream",
     "text": [
      "El tiempo promedio para que 100 jugadores de 200 se quiebren es de  3.0 rondas de 100 juegos.\n"
     ]
    }
   ],
   "source": [
    "print('El tiempo promedio para que 100 jugadores de 200 se quiebren es de  ' + str(mean(timeListC))+ ' rondas de 100 juegos.')"
   ]
  }
 ],
 "metadata": {
  "kernelspec": {
   "display_name": "Python 3",
   "language": "python",
   "name": "python3"
  },
  "language_info": {
   "codemirror_mode": {
    "name": "ipython",
    "version": 3
   },
   "file_extension": ".py",
   "mimetype": "text/x-python",
   "name": "python",
   "nbconvert_exporter": "python",
   "pygments_lexer": "ipython3",
   "version": "3.5.2"
  }
 },
 "nbformat": 4,
 "nbformat_minor": 2
}
