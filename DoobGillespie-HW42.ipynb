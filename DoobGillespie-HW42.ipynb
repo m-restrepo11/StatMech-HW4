{
 "cells": [
  {
   "cell_type": "code",
   "execution_count": 1,
   "metadata": {
    "collapsed": false
   },
   "outputs": [
    {
     "name": "stdout",
     "output_type": "stream",
     "text": [
      "Populating the interactive namespace from numpy and matplotlib\n"
     ]
    }
   ],
   "source": [
    "pylab inline"
   ]
  },
  {
   "cell_type": "code",
   "execution_count": 2,
   "metadata": {
    "collapsed": true
   },
   "outputs": [],
   "source": [
    "def arrival(queue, t):    \n",
    "    queue.append(t)\n",
    "\n",
    "def attend(queue, t):    \n",
    "    t_wait = t - queue[0]\n",
    "    queue.pop(0)\n",
    "    \n",
    "    return t_wait\n",
    "\n",
    "def bored(queue, t):    \n",
    "    t_wait = t - queue[0]\n",
    "    queue.pop(-1)\n",
    "    \n",
    "    return t_wait"
   ]
  },
  {
   "cell_type": "code",
   "execution_count": 32,
   "metadata": {
    "collapsed": true
   },
   "outputs": [],
   "source": [
    "arr_1 = 1.0/5.0 #rate 9-17\n",
    "arr_2 = 1.0/2.0 #rate 17-19\n",
    "asst = 1.0/2.0 #rate attend\n",
    "bor = 1.0/10.0 #rate bored"
   ]
  },
  {
   "cell_type": "code",
   "execution_count": 44,
   "metadata": {
    "collapsed": true
   },
   "outputs": [],
   "source": [
    "p0 = 0\n",
    "p_lost0 = 0\n",
    "\n",
    "def DG(t_old, p_old, p_atend_old, p_lost_old, totalWait_old, queue):\n",
    "    \n",
    "    K = 0.0\n",
    "    Dt = log(1.0/random.random())\n",
    "    w = random.random()\n",
    "    \n",
    "    p_new = p_old\n",
    "    p_atend_new = p_atend_old\n",
    "    p_lost_new = p_lost_old\n",
    "    totalWait = totalWait_old\n",
    "    \n",
    "    \n",
    "    #9--17\n",
    "    if(t_old < 480):\n",
    "        K += arr_1\n",
    "         \n",
    "        if(p_old > 0):            \n",
    "            K += asst\n",
    "               \n",
    "            if(p_old > 10):              \n",
    "                K += bor                \n",
    "                Dt/=K\n",
    "                t_new = t_old + Dt\n",
    "                \n",
    "                if(w < arr_1/K):\n",
    "                    p_new+=1\n",
    "                    arrival(queue, t_new)\n",
    "                \n",
    "                elif(w >= arr_1/K and w < (arr_1 + asst)/K):\n",
    "                    p_new-=1\n",
    "                    p_atend_new+=1\n",
    "                    totalWait+=attend(queue, t_new)\n",
    "                \n",
    "                else:\n",
    "                    p_new-=1\n",
    "                    p_lost_new+=1\n",
    "                    totalWait+=bored(queue, t_new)\n",
    "                       \n",
    "            \n",
    "            else:               \n",
    "                Dt/=K\n",
    "                t_new = t_old + Dt\n",
    "                \n",
    "                if(w < arr_1/K):\n",
    "                    p_new+=1\n",
    "                    arrival(queue, t_new)\n",
    "                \n",
    "                else:\n",
    "                    p_new-=1\n",
    "                    p_atend_new+=1\n",
    "                    totalWait+=attend(queue, t_new)\n",
    "                    \n",
    "        \n",
    "        else:        \n",
    "            \n",
    "            Dt/=K\n",
    "            t_new = t_old + Dt\n",
    "            p_new+=1\n",
    "            arrival(queue, t_new)\n",
    "                               \n",
    "    #17--19 \n",
    "    else:           \n",
    "        K += arr_2\n",
    "        \n",
    "        if(p_old > 0):   \n",
    "            K += asst\n",
    "            \n",
    "            if(p_old > 10):        \n",
    "                K += bor                \n",
    "                Dt/=K\n",
    "                t_new = t_old + Dt\n",
    "                \n",
    "                if(w < arr_2/K):\n",
    "                    p_new+=1\n",
    "                    arrival(queue, t_new)\n",
    "                \n",
    "                elif(w >= arr_2/K and w < (arr_2 + asst)/K):\n",
    "                    p_new-=1\n",
    "                    p_atend_new+=1\n",
    "                    totalWait+=attend(queue, t_new)\n",
    "                \n",
    "                else:\n",
    "                    p_new-=1\n",
    "                    p_lost_new+=1\n",
    "                    totalWait+=bored(queue, t_new)\n",
    "            \n",
    "            else:\n",
    "                \n",
    "                Dt/=K\n",
    "                t_new = t_old + Dt\n",
    "                if(w < arr_2/K):\n",
    "                    p_new+=1\n",
    "                    arrival(queue, t_new)\n",
    "                \n",
    "                else:\n",
    "                    p_new-=1\n",
    "                    p_atend_new+=1\n",
    "                    totalWait+=attend(queue, t_new)\n",
    "        else:\n",
    "            \n",
    "            Dt/=K\n",
    "            t_new = t_old + Dt\n",
    "            p_new+=1\n",
    "            arrival(queue, t_new)\n",
    "                \n",
    "    return t_new, p_new, p_atend_new, p_lost_new, totalWait"
   ]
  },
  {
   "cell_type": "code",
   "execution_count": 45,
   "metadata": {
    "collapsed": true
   },
   "outputs": [],
   "source": [
    "def clerk(dt, t_total):\n",
    "    \n",
    "    t = []\n",
    "    p = []\n",
    "    p_atend = []\n",
    "    p_lost = []\n",
    "    totalT = []    \n",
    "    queue = []\n",
    "    \n",
    "    t_c = 0\n",
    "    p_c = p0\n",
    "    p_atend_c = 0\n",
    "    p_lost_c = p_lost0\n",
    "    totalT_c = 0\n",
    "    \n",
    "    t.append(0)\n",
    "    p.append(p0)\n",
    "    p_atend.append(0)\n",
    "    p_lost.append(p_lost0)\n",
    "    totalT.append(0)\n",
    "    \n",
    "    while t_c < t_total:        \n",
    "        t_c, p_c, p_atend_c, p_lost_c, totalT_c = DG(t_c, p_c, p_atend_c, p_lost_c, totalT_c, queue)        \n",
    "        t.append(t_c)\n",
    "        p.append(p_c)\n",
    "        p_atend.append(p_atend_c)\n",
    "        p_lost.append(p_lost_c)\n",
    "        totalT.append(totalT_c)\n",
    "    \n",
    "    avgT = 1.0*np.array(totalT)/(1.0*np.array(p_atend) + 1.0*np.array(p_lost))\n",
    "\n",
    "    return t, p, p_lost, avgT"
   ]
  },
  {
   "cell_type": "code",
   "execution_count": 42,
   "metadata": {
    "collapsed": false
   },
   "outputs": [
    {
     "name": "stderr",
     "output_type": "stream",
     "text": [
      "/opt/Anaconda/anaconda3/lib/python3.6/site-packages/ipykernel/__main__.py:32: RuntimeWarning: invalid value encountered in true_divide\n"
     ]
    }
   ],
   "source": [
    "totalTime = 600\n",
    "dt = 1\n",
    "N = 10000\n",
    "T = []\n",
    "\n",
    "for i in range(N):\n",
    "        t, p, p_lost, avgT = clerk(dt, totalTime)\n",
    "        T.append(avgT[-1])"
   ]
  },
  {
   "cell_type": "code",
   "execution_count": 46,
   "metadata": {
    "collapsed": false
   },
   "outputs": [
    {
     "name": "stdout",
     "output_type": "stream",
     "text": [
      "El tiempo promedio de espera en la queue son 5.81 minutos.\n"
     ]
    },
    {
     "data": {
      "image/png": "[encoded data removed]",
      "text/plain": [
       "<matplotlib.figure.Figure at 0x7febe4b5e8d0>"
      ]
     },
     "metadata": {},
     "output_type": "display_data"
    }
   ],
   "source": [
    "print('El tiempo promedio de espera en la queue son ' + str(round(mean(T),2)) + ' minutos.')\n",
    "\n",
    "xlabel('Tiempo [min]',fontsize=16)\n",
    "ylabel('Frecuencia',fontsize=16)\n",
    "title('Tiempo promedio en la queue',fontsize=18)\n",
    "hist(T,normed=True,bins=100)\n",
    "show()"
   ]
  },
  {
   "cell_type": "code",
   "execution_count": 37,
   "metadata": {
    "collapsed": false
   },
   "outputs": [],
   "source": [
    "def month():\n",
    "\n",
    "    lostCostumer = 0\n",
    "\n",
    "    for i in range(30):\n",
    "        dt = 1\n",
    "        t_total = 600\n",
    "        tList, pList, pLostList, avgWaitTime = clerk(dt, t_total)\n",
    "        lostCostumer += pLostList[-1]\n",
    "    \n",
    "    return lostCostumer"
   ]
  },
  {
   "cell_type": "code",
   "execution_count": 47,
   "metadata": {
    "collapsed": false
   },
   "outputs": [
    {
     "name": "stderr",
     "output_type": "stream",
     "text": [
      "/opt/Anaconda/anaconda3/lib/python3.6/site-packages/ipykernel/__main__.py:30: RuntimeWarning: invalid value encountered in true_divide\n"
     ]
    }
   ],
   "source": [
    "lostCostumerList = []\n",
    "    \n",
    "for i in range(1000):\n",
    "        lostCostumerList.append(month())"
   ]
  },
  {
   "cell_type": "code",
   "execution_count": 55,
   "metadata": {
    "collapsed": false
   },
   "outputs": [
    {
     "name": "stdout",
     "output_type": "stream",
     "text": [
      "La cantidad promedio de clientes que se pierden por mes es de 42.26\n"
     ]
    },
    {
     "data": {
      "image/png": "[encoded data removed]",
      "text/plain": [
       "<matplotlib.figure.Figure at 0x7febe485fe10>"
      ]
     },
     "metadata": {},
     "output_type": "display_data"
    }
   ],
   "source": [
    "print('La cantidad promedio de clientes que se pierden por mes es de ' + str(round(mean(lostCostumerList),2)))\n",
    "\n",
    "xlabel('Clientes',fontsize=16)\n",
    "ylabel('Frecuencia',fontsize=16)\n",
    "title('Número de clientes perdidos en un mes',fontsize=18)\n",
    "hist(lostCostumerList,normed=True,bins=25)\n",
    "show()"
   ]
  },
  {
   "cell_type": "code",
   "execution_count": null,
   "metadata": {
    "collapsed": true
   },
   "outputs": [],
   "source": []
  }
 ],
 "metadata": {
  "kernelspec": {
   "display_name": "Python 3",
   "language": "python",
   "name": "python3"
  },
  "language_info": {
   "codemirror_mode": {
    "name": "ipython",
    "version": 3
   },
   "file_extension": ".py",
   "mimetype": "text/x-python",
   "name": "python",
   "nbconvert_exporter": "python",
   "pygments_lexer": "ipython3",
   "version": "3.6.0"
  }
 },
 "nbformat": 4,
 "nbformat_minor": 2
}
